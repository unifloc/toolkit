{
 "cells": [
  {
   "cell_type": "markdown",
   "metadata": {},
   "source": [
    "# Python Toolkit"
   ]
  },
  {
   "cell_type": "code",
   "execution_count": 31,
   "metadata": {
    "ExecuteTime": {
     "end_time": "2021-12-10T22:57:15.653498Z",
     "start_time": "2021-12-10T22:57:15.642535Z"
    }
   },
   "outputs": [],
   "source": [
    "from sixgill.pipesim import Model\n",
    "from sixgill.definitions import ModelComponents, Parameters, Constants, Units\n",
    "import main"
   ]
  },
  {
   "cell_type": "code",
   "execution_count": 32,
   "metadata": {
    "ExecuteTime": {
     "end_time": "2021-12-10T22:57:16.649484Z",
     "start_time": "2021-12-10T22:57:16.633527Z"
    }
   },
   "outputs": [],
   "source": [
    "tr_path=\"data/Техрежим, Муравленко, декабрь 2021_Действующие_Суторминское.xls\"\n",
    "model_directory=\"data/модели pipesim\"\n",
    "esp_db_path=\"esp_db.json\""
   ]
  },
  {
   "cell_type": "code",
   "execution_count": 33,
   "metadata": {
    "ExecuteTime": {
     "end_time": "2021-12-10T22:57:17.712226Z",
     "start_time": "2021-12-10T22:57:17.700093Z"
    }
   },
   "outputs": [],
   "source": [
    "# Количество скважин с техрежима для расчета\n",
    "number_of_wells=1"
   ]
  },
  {
   "cell_type": "markdown",
   "metadata": {},
   "source": [
    "### Сначала создадим модели, а потом уже будем работать с готовыми моделями"
   ]
  },
  {
   "cell_type": "code",
   "execution_count": 4,
   "metadata": {
    "ExecuteTime": {
     "end_time": "2021-12-10T22:28:44.022767Z",
     "start_time": "2021-12-10T22:28:18.517370Z"
    }
   },
   "outputs": [
    {
     "name": "stderr",
     "output_type": "stream",
     "text": [
      "INFO:manta.server.manager:Starting PIPESIM server on thread ID: 9532\n"
     ]
    },
    {
     "name": "stdout",
     "output_type": "stream",
     "text": [
      "Создадим модель для скважины: 8K\n"
     ]
    },
    {
     "name": "stderr",
     "output_type": "stream",
     "text": [
      "C:\\Users\\Alexey\\anaconda3\\lib\\subprocess.py:844: RuntimeWarning: line buffering (buffering=1) isn't supported in binary mode, the default buffer size will be used\n",
      "  self.stdout = io.open(c2pread, 'rb', bufsize)\n",
      "INFO:manta.server.manager:Waiting for PIPESIM server to start and Python_Toolkit license check out.\n",
      "INFO:manta.server.manager:Starting PIPESIM server on thread ID: 9576\n",
      "INFO:sixgill.core.metadata:Using cached metadata for 'http://localhost:62082/api/metadata#'\n"
     ]
    }
   ],
   "source": [
    "main.make_models(\n",
    "    tr_path=tr_path,\n",
    "    model_directory=model_directory,\n",
    "    esp_db_path=esp_db_path,\n",
    "    number_of_wells=number_of_wells\n",
    "                )"
   ]
  },
  {
   "cell_type": "markdown",
   "metadata": {},
   "source": [
    "*Модели должны появиться в пути model_directory с названием файлов как названия скважин*\n",
    "\n",
    "**Самостоятельно** откройте модель для изучения того, что получилось, и сравните с технологическим режимом\n",
    "\n",
    "В sixgill.Model есть метод **open_ui()**, который к сожалению не работает через anaconda,  в случае если бы он работал, то можно было открыть интерфейс командой из python\n",
    "\n",
    "\n",
    "*Построение модели происходит в файлике _pipesim_model.py, откройте его для изучения, если интересно*"
   ]
  },
  {
   "cell_type": "markdown",
   "metadata": {},
   "source": [
    "### Рассчитаем кривую распределения давления сверху вниз"
   ]
  },
  {
   "cell_type": "code",
   "execution_count": 5,
   "metadata": {
    "ExecuteTime": {
     "end_time": "2021-12-10T22:29:05.383062Z",
     "start_time": "2021-12-10T22:28:44.022767Z"
    }
   },
   "outputs": [
    {
     "name": "stderr",
     "output_type": "stream",
     "text": [
      "INFO:manta.server.manager:Starting PIPESIM server on thread ID: 15536\n",
      "INFO:sixgill.core.metadata:Using cached metadata for 'http://localhost:62089/api/metadata#'\n",
      "INFO:sixgill.core.simulations:Simulation is running.\n",
      "INFO:sixgill.core.simulations:Simulation is finished.\n",
      "INFO:sixgill.core.simulations:Simulation run successfully.\n"
     ]
    }
   ],
   "source": [
    "model_name = \"8K\"\n",
    "results = main.calc_pt(model_directory + f\"/{model_name}.pips\",\n",
    "             model_name,\n",
    "             p_wh = 10,\n",
    "             q_liq = 100\n",
    "            )\n",
    "\n",
    "# Либо можно низкоуровнево\n",
    "# model = Model.open(model_directory + f\"/{model_name}.pips\", units=Units.METRIC)\n",
    "# model.tasks.ptprofilesimulation.run(producer=model_name,\n",
    "#                                                   parameters=parameters)"
   ]
  },
  {
   "cell_type": "markdown",
   "metadata": {},
   "source": [
    "#### Изучим, что получилось\n",
    "\n",
    "*По умолчанию, если не задавать parameters в функции, то расчет идет сверху вниз от буферного до пластового давления*"
   ]
  },
  {
   "cell_type": "code",
   "execution_count": 6,
   "metadata": {
    "ExecuteTime": {
     "end_time": "2021-12-10T22:29:05.414987Z",
     "start_time": "2021-12-10T22:29:05.384002Z"
    }
   },
   "outputs": [
    {
     "data": {
      "text/html": [
       "<div>\n",
       "<style scoped>\n",
       "    .dataframe tbody tr th:only-of-type {\n",
       "        vertical-align: middle;\n",
       "    }\n",
       "\n",
       "    .dataframe tbody tr th {\n",
       "        vertical-align: top;\n",
       "    }\n",
       "\n",
       "    .dataframe thead th {\n",
       "        text-align: right;\n",
       "    }\n",
       "</style>\n",
       "<table border=\"1\" class=\"dataframe\">\n",
       "  <thead>\n",
       "    <tr style=\"text-align: right;\">\n",
       "      <th></th>\n",
       "      <th>Unit</th>\n",
       "      <th>Inlet Pressure=6964.149 psia</th>\n",
       "    </tr>\n",
       "  </thead>\n",
       "  <tbody>\n",
       "    <tr>\n",
       "      <th>SGLV: original</th>\n",
       "      <td>sm3</td>\n",
       "      <td>0.000000</td>\n",
       "    </tr>\n",
       "    <tr>\n",
       "      <th>InputTubingHeadPressure</th>\n",
       "      <td>bara</td>\n",
       "      <td>10.000156</td>\n",
       "    </tr>\n",
       "    <tr>\n",
       "      <th>ESP delta P</th>\n",
       "      <td>bar</td>\n",
       "      <td>0.000000</td>\n",
       "    </tr>\n",
       "    <tr>\n",
       "      <th>OutletFractionH2S</th>\n",
       "      <td></td>\n",
       "      <td>0.000000</td>\n",
       "    </tr>\n",
       "    <tr>\n",
       "      <th>Total moving liquid volume</th>\n",
       "      <td>sm3</td>\n",
       "      <td>31.699001</td>\n",
       "    </tr>\n",
       "    <tr>\n",
       "      <th>...</th>\n",
       "      <td>...</td>\n",
       "      <td>...</td>\n",
       "    </tr>\n",
       "    <tr>\n",
       "      <th>OutletErosionalVelocity</th>\n",
       "      <td>m/s</td>\n",
       "      <td>4.081139</td>\n",
       "    </tr>\n",
       "    <tr>\n",
       "      <th>WellheadVolumeFlowrateGasStockTank</th>\n",
       "      <td>mmsm3/d</td>\n",
       "      <td>0.000124</td>\n",
       "    </tr>\n",
       "    <tr>\n",
       "      <th>PFDAT(16)</th>\n",
       "      <td></td>\n",
       "      <td>0.000000</td>\n",
       "    </tr>\n",
       "    <tr>\n",
       "      <th>OutletVolumeFlowrateWaterStockTank</th>\n",
       "      <td>sm3/d</td>\n",
       "      <td>97.799838</td>\n",
       "    </tr>\n",
       "    <tr>\n",
       "      <th>PFDAT(15)</th>\n",
       "      <td></td>\n",
       "      <td>0.000000</td>\n",
       "    </tr>\n",
       "  </tbody>\n",
       "</table>\n",
       "<p>143 rows × 2 columns</p>\n",
       "</div>"
      ],
      "text/plain": [
       "                                       Unit  Inlet Pressure=6964.149 psia\n",
       "SGLV: original                          sm3                      0.000000\n",
       "InputTubingHeadPressure                bara                     10.000156\n",
       "ESP delta P                             bar                      0.000000\n",
       "OutletFractionH2S                                                0.000000\n",
       "Total moving liquid volume              sm3                     31.699001\n",
       "...                                     ...                           ...\n",
       "OutletErosionalVelocity                 m/s                      4.081139\n",
       "WellheadVolumeFlowrateGasStockTank  mmsm3/d                      0.000124\n",
       "PFDAT(16)                                                        0.000000\n",
       "OutletVolumeFlowrateWaterStockTank    sm3/d                     97.799838\n",
       "PFDAT(15)                                                        0.000000\n",
       "\n",
       "[143 rows x 2 columns]"
      ]
     },
     "execution_count": 6,
     "metadata": {},
     "output_type": "execute_result"
    }
   ],
   "source": [
    "# System results - дискретные результаты \n",
    "system_results = results[0]\n",
    "system_results"
   ]
  },
  {
   "cell_type": "code",
   "execution_count": 7,
   "metadata": {
    "ExecuteTime": {
     "end_time": "2021-12-10T22:29:05.429947Z",
     "start_time": "2021-12-10T22:29:05.415985Z"
    }
   },
   "outputs": [
    {
     "data": {
      "text/html": [
       "<div>\n",
       "<style scoped>\n",
       "    .dataframe tbody tr th:only-of-type {\n",
       "        vertical-align: middle;\n",
       "    }\n",
       "\n",
       "    .dataframe tbody tr th {\n",
       "        vertical-align: top;\n",
       "    }\n",
       "\n",
       "    .dataframe thead th {\n",
       "        text-align: right;\n",
       "    }\n",
       "</style>\n",
       "<table border=\"1\" class=\"dataframe\">\n",
       "  <thead>\n",
       "    <tr style=\"text-align: right;\">\n",
       "      <th></th>\n",
       "      <th>Unit</th>\n",
       "      <th>Esp</th>\n",
       "      <th>Vert Comp 1</th>\n",
       "    </tr>\n",
       "  </thead>\n",
       "  <tbody>\n",
       "    <tr>\n",
       "      <th>Temperature</th>\n",
       "      <td>degC</td>\n",
       "      <td>81.598577</td>\n",
       "      <td>86.679906</td>\n",
       "    </tr>\n",
       "    <tr>\n",
       "      <th>IsInjectingIntoCompletion</th>\n",
       "      <td></td>\n",
       "      <td>NaN</td>\n",
       "      <td>False</td>\n",
       "    </tr>\n",
       "    <tr>\n",
       "      <th>VolumeFlowrateFluid</th>\n",
       "      <td>m3/s</td>\n",
       "      <td>0.001183</td>\n",
       "      <td>NaN</td>\n",
       "    </tr>\n",
       "    <tr>\n",
       "      <th>DensityGasStockTank</th>\n",
       "      <td>kg/m3</td>\n",
       "      <td>0.856667</td>\n",
       "      <td>0.856667</td>\n",
       "    </tr>\n",
       "    <tr>\n",
       "      <th>Enthalpy</th>\n",
       "      <td>kJ/kg</td>\n",
       "      <td>432.416803</td>\n",
       "      <td>458.051778</td>\n",
       "    </tr>\n",
       "    <tr>\n",
       "      <th>...</th>\n",
       "      <td>...</td>\n",
       "      <td>...</td>\n",
       "      <td>...</td>\n",
       "    </tr>\n",
       "    <tr>\n",
       "      <th>Curve</th>\n",
       "      <td></td>\n",
       "      <td>70</td>\n",
       "      <td>NaN</td>\n",
       "    </tr>\n",
       "    <tr>\n",
       "      <th>CompressorHead</th>\n",
       "      <td>kJ/kg</td>\n",
       "      <td>0.0</td>\n",
       "      <td>NaN</td>\n",
       "    </tr>\n",
       "    <tr>\n",
       "      <th>LimitedBy</th>\n",
       "      <td></td>\n",
       "      <td>SPEED</td>\n",
       "      <td>NaN</td>\n",
       "    </tr>\n",
       "    <tr>\n",
       "      <th>Stages</th>\n",
       "      <td></td>\n",
       "      <td>461</td>\n",
       "      <td>NaN</td>\n",
       "    </tr>\n",
       "    <tr>\n",
       "      <th></th>\n",
       "      <td></td>\n",
       "      <td>True</td>\n",
       "      <td>NaN</td>\n",
       "    </tr>\n",
       "  </tbody>\n",
       "</table>\n",
       "<p>67 rows × 3 columns</p>\n",
       "</div>"
      ],
      "text/plain": [
       "                            Unit         Esp Vert Comp 1\n",
       "Temperature                 degC   81.598577   86.679906\n",
       "IsInjectingIntoCompletion                NaN       False\n",
       "VolumeFlowrateFluid         m3/s    0.001183         NaN\n",
       "DensityGasStockTank        kg/m3    0.856667    0.856667\n",
       "Enthalpy                   kJ/kg  432.416803  458.051778\n",
       "...                          ...         ...         ...\n",
       "Curve                                     70         NaN\n",
       "CompressorHead             kJ/kg         0.0         NaN\n",
       "LimitedBy                              SPEED         NaN\n",
       "Stages                                   461         NaN\n",
       "                                        True         NaN\n",
       "\n",
       "[67 rows x 3 columns]"
      ]
     },
     "execution_count": 7,
     "metadata": {},
     "output_type": "execute_result"
    }
   ],
   "source": [
    "# Nodal results - результаты на ключевых узлах\n",
    "nodal_results = results[1][list(results[1].keys())[0]]\n",
    "nodal_results"
   ]
  },
  {
   "cell_type": "code",
   "execution_count": 8,
   "metadata": {
    "ExecuteTime": {
     "end_time": "2021-12-10T22:29:05.476824Z",
     "start_time": "2021-12-10T22:29:05.431942Z"
    }
   },
   "outputs": [
    {
     "data": {
      "text/html": [
       "<div>\n",
       "<style scoped>\n",
       "    .dataframe tbody tr th:only-of-type {\n",
       "        vertical-align: middle;\n",
       "    }\n",
       "\n",
       "    .dataframe tbody tr th {\n",
       "        vertical-align: top;\n",
       "    }\n",
       "\n",
       "    .dataframe thead th {\n",
       "        text-align: right;\n",
       "    }\n",
       "</style>\n",
       "<table border=\"1\" class=\"dataframe\">\n",
       "  <thead>\n",
       "    <tr style=\"text-align: right;\">\n",
       "      <th></th>\n",
       "      <th>BranchEquipment</th>\n",
       "      <th>BurialDepthOfPipeTopmostCoat</th>\n",
       "      <th>SuperficialVelocityOil</th>\n",
       "      <th>SlugFrequency1In1000</th>\n",
       "      <th>LGRStockTank</th>\n",
       "      <th>SlugFrequency1In100</th>\n",
       "      <th>VolumeFractionLiquid</th>\n",
       "      <th>SlugLength1In10</th>\n",
       "      <th>ViscosityDeadOilStockTank</th>\n",
       "      <th>PipeWallThickness</th>\n",
       "      <th>...</th>\n",
       "      <th>SpecificGravityOilStockTank</th>\n",
       "      <th>ConductivityOilInSitu</th>\n",
       "      <th>CumulativeElevationPressureDifference</th>\n",
       "      <th>VolumeFlowrateWaterInSitu</th>\n",
       "      <th>AnnulusInsideDiameter</th>\n",
       "      <th>SlugLengthMean</th>\n",
       "      <th>SinglePhaseFrictionalPressureGradient</th>\n",
       "      <th>SuperficialVelocityLiquid</th>\n",
       "      <th>SpecificHeatCapacityRatioGasInSitu</th>\n",
       "      <th>PressureGradientTotal</th>\n",
       "    </tr>\n",
       "  </thead>\n",
       "  <tbody>\n",
       "    <tr>\n",
       "      <th>0</th>\n",
       "      <td>None</td>\n",
       "      <td>NaN</td>\n",
       "      <td>NaN</td>\n",
       "      <td>NaN</td>\n",
       "      <td>809696.840867</td>\n",
       "      <td>NaN</td>\n",
       "      <td>1.000000</td>\n",
       "      <td>NaN</td>\n",
       "      <td>2.443322</td>\n",
       "      <td>NaN</td>\n",
       "      <td>...</td>\n",
       "      <td>0.855842</td>\n",
       "      <td>0.1384</td>\n",
       "      <td>NaN</td>\n",
       "      <td>98.287469</td>\n",
       "      <td>NaN</td>\n",
       "      <td>NaN</td>\n",
       "      <td>NaN</td>\n",
       "      <td>NaN</td>\n",
       "      <td>1.26</td>\n",
       "      <td>NaN</td>\n",
       "    </tr>\n",
       "    <tr>\n",
       "      <th>1</th>\n",
       "      <td>Vert Comp 1</td>\n",
       "      <td>NaN</td>\n",
       "      <td>NaN</td>\n",
       "      <td>NaN</td>\n",
       "      <td>809696.840867</td>\n",
       "      <td>NaN</td>\n",
       "      <td>1.000000</td>\n",
       "      <td>NaN</td>\n",
       "      <td>2.196592</td>\n",
       "      <td>NaN</td>\n",
       "      <td>...</td>\n",
       "      <td>0.855842</td>\n",
       "      <td>0.1384</td>\n",
       "      <td>NaN</td>\n",
       "      <td>99.717967</td>\n",
       "      <td>NaN</td>\n",
       "      <td>NaN</td>\n",
       "      <td>NaN</td>\n",
       "      <td>NaN</td>\n",
       "      <td>1.26</td>\n",
       "      <td>NaN</td>\n",
       "    </tr>\n",
       "    <tr>\n",
       "      <th>2</th>\n",
       "      <td>Casing</td>\n",
       "      <td>-1.524000e+33</td>\n",
       "      <td>0.002277</td>\n",
       "      <td>0.0</td>\n",
       "      <td>809696.840867</td>\n",
       "      <td>0.0</td>\n",
       "      <td>1.000000</td>\n",
       "      <td>0.0</td>\n",
       "      <td>2.196629</td>\n",
       "      <td>8.500110</td>\n",
       "      <td>...</td>\n",
       "      <td>0.855842</td>\n",
       "      <td>0.1384</td>\n",
       "      <td>0.000000</td>\n",
       "      <td>99.717973</td>\n",
       "      <td>145.999200</td>\n",
       "      <td>0.0</td>\n",
       "      <td>0.000007</td>\n",
       "      <td>0.090584</td>\n",
       "      <td>1.26</td>\n",
       "      <td>0.089384</td>\n",
       "    </tr>\n",
       "    <tr>\n",
       "      <th>3</th>\n",
       "      <td>None</td>\n",
       "      <td>-1.524000e+33</td>\n",
       "      <td>0.002276</td>\n",
       "      <td>0.0</td>\n",
       "      <td>809696.840867</td>\n",
       "      <td>0.0</td>\n",
       "      <td>1.000000</td>\n",
       "      <td>0.0</td>\n",
       "      <td>2.261801</td>\n",
       "      <td>8.500110</td>\n",
       "      <td>...</td>\n",
       "      <td>0.855842</td>\n",
       "      <td>0.1384</td>\n",
       "      <td>17.849899</td>\n",
       "      <td>99.701288</td>\n",
       "      <td>145.999200</td>\n",
       "      <td>0.0</td>\n",
       "      <td>0.000007</td>\n",
       "      <td>0.090569</td>\n",
       "      <td>1.26</td>\n",
       "      <td>0.089399</td>\n",
       "    </tr>\n",
       "    <tr>\n",
       "      <th>4</th>\n",
       "      <td>None</td>\n",
       "      <td>-1.524000e+33</td>\n",
       "      <td>0.002273</td>\n",
       "      <td>0.0</td>\n",
       "      <td>809696.840867</td>\n",
       "      <td>0.0</td>\n",
       "      <td>1.000000</td>\n",
       "      <td>0.0</td>\n",
       "      <td>2.426176</td>\n",
       "      <td>8.500110</td>\n",
       "      <td>...</td>\n",
       "      <td>0.855842</td>\n",
       "      <td>0.1384</td>\n",
       "      <td>45.112542</td>\n",
       "      <td>99.602940</td>\n",
       "      <td>145.999200</td>\n",
       "      <td>0.0</td>\n",
       "      <td>0.000007</td>\n",
       "      <td>0.090479</td>\n",
       "      <td>1.26</td>\n",
       "      <td>0.089501</td>\n",
       "    </tr>\n",
       "    <tr>\n",
       "      <th>5</th>\n",
       "      <td>Esp</td>\n",
       "      <td>NaN</td>\n",
       "      <td>NaN</td>\n",
       "      <td>NaN</td>\n",
       "      <td>809696.840867</td>\n",
       "      <td>NaN</td>\n",
       "      <td>1.000000</td>\n",
       "      <td>NaN</td>\n",
       "      <td>2.426278</td>\n",
       "      <td>NaN</td>\n",
       "      <td>...</td>\n",
       "      <td>0.855842</td>\n",
       "      <td>0.1384</td>\n",
       "      <td>NaN</td>\n",
       "      <td>99.602874</td>\n",
       "      <td>NaN</td>\n",
       "      <td>NaN</td>\n",
       "      <td>NaN</td>\n",
       "      <td>NaN</td>\n",
       "      <td>1.26</td>\n",
       "      <td>NaN</td>\n",
       "    </tr>\n",
       "    <tr>\n",
       "      <th>6</th>\n",
       "      <td>Tubing</td>\n",
       "      <td>-1.524000e+33</td>\n",
       "      <td>0.002496</td>\n",
       "      <td>0.0</td>\n",
       "      <td>809696.840867</td>\n",
       "      <td>0.0</td>\n",
       "      <td>1.000000</td>\n",
       "      <td>0.0</td>\n",
       "      <td>2.426376</td>\n",
       "      <td>5.500116</td>\n",
       "      <td>...</td>\n",
       "      <td>0.855842</td>\n",
       "      <td>0.1384</td>\n",
       "      <td>-145.496207</td>\n",
       "      <td>99.602815</td>\n",
       "      <td>72.999092</td>\n",
       "      <td>0.0</td>\n",
       "      <td>0.000021</td>\n",
       "      <td>0.099344</td>\n",
       "      <td>1.26</td>\n",
       "      <td>0.091831</td>\n",
       "    </tr>\n",
       "    <tr>\n",
       "      <th>7</th>\n",
       "      <td>None</td>\n",
       "      <td>-1.524000e+33</td>\n",
       "      <td>0.002492</td>\n",
       "      <td>0.0</td>\n",
       "      <td>809696.840867</td>\n",
       "      <td>0.0</td>\n",
       "      <td>1.000000</td>\n",
       "      <td>0.0</td>\n",
       "      <td>2.664283</td>\n",
       "      <td>5.500116</td>\n",
       "      <td>...</td>\n",
       "      <td>0.855842</td>\n",
       "      <td>0.1384</td>\n",
       "      <td>-117.852062</td>\n",
       "      <td>99.460453</td>\n",
       "      <td>72.999092</td>\n",
       "      <td>0.0</td>\n",
       "      <td>0.000022</td>\n",
       "      <td>0.099202</td>\n",
       "      <td>1.26</td>\n",
       "      <td>0.091963</td>\n",
       "    </tr>\n",
       "    <tr>\n",
       "      <th>8</th>\n",
       "      <td>None</td>\n",
       "      <td>-1.524000e+33</td>\n",
       "      <td>0.002487</td>\n",
       "      <td>0.0</td>\n",
       "      <td>809696.840867</td>\n",
       "      <td>0.0</td>\n",
       "      <td>1.000000</td>\n",
       "      <td>0.0</td>\n",
       "      <td>3.010800</td>\n",
       "      <td>5.500116</td>\n",
       "      <td>...</td>\n",
       "      <td>0.855842</td>\n",
       "      <td>0.1384</td>\n",
       "      <td>-89.802534</td>\n",
       "      <td>99.280974</td>\n",
       "      <td>72.999092</td>\n",
       "      <td>0.0</td>\n",
       "      <td>0.000022</td>\n",
       "      <td>0.099022</td>\n",
       "      <td>1.26</td>\n",
       "      <td>0.092133</td>\n",
       "    </tr>\n",
       "    <tr>\n",
       "      <th>9</th>\n",
       "      <td>None</td>\n",
       "      <td>-1.524000e+33</td>\n",
       "      <td>0.002483</td>\n",
       "      <td>0.0</td>\n",
       "      <td>809696.840867</td>\n",
       "      <td>0.0</td>\n",
       "      <td>1.000000</td>\n",
       "      <td>0.0</td>\n",
       "      <td>3.502830</td>\n",
       "      <td>5.500116</td>\n",
       "      <td>...</td>\n",
       "      <td>0.855842</td>\n",
       "      <td>0.1384</td>\n",
       "      <td>-61.696754</td>\n",
       "      <td>99.086675</td>\n",
       "      <td>72.999092</td>\n",
       "      <td>0.0</td>\n",
       "      <td>0.000023</td>\n",
       "      <td>0.098829</td>\n",
       "      <td>1.26</td>\n",
       "      <td>0.092323</td>\n",
       "    </tr>\n",
       "    <tr>\n",
       "      <th>10</th>\n",
       "      <td>None</td>\n",
       "      <td>-1.524000e+33</td>\n",
       "      <td>0.002420</td>\n",
       "      <td>0.0</td>\n",
       "      <td>809696.840867</td>\n",
       "      <td>0.0</td>\n",
       "      <td>0.997845</td>\n",
       "      <td>0.0</td>\n",
       "      <td>4.213626</td>\n",
       "      <td>5.500116</td>\n",
       "      <td>...</td>\n",
       "      <td>0.855842</td>\n",
       "      <td>0.1384</td>\n",
       "      <td>-33.550780</td>\n",
       "      <td>98.892130</td>\n",
       "      <td>72.999092</td>\n",
       "      <td>0.0</td>\n",
       "      <td>0.000023</td>\n",
       "      <td>0.098577</td>\n",
       "      <td>1.26</td>\n",
       "      <td>0.092351</td>\n",
       "    </tr>\n",
       "    <tr>\n",
       "      <th>11</th>\n",
       "      <td>None</td>\n",
       "      <td>-1.524000e+33</td>\n",
       "      <td>0.002334</td>\n",
       "      <td>0.0</td>\n",
       "      <td>809696.840867</td>\n",
       "      <td>0.0</td>\n",
       "      <td>0.991896</td>\n",
       "      <td>0.0</td>\n",
       "      <td>5.277789</td>\n",
       "      <td>5.500116</td>\n",
       "      <td>...</td>\n",
       "      <td>0.855842</td>\n",
       "      <td>0.1384</td>\n",
       "      <td>-5.428372</td>\n",
       "      <td>98.708508</td>\n",
       "      <td>72.999092</td>\n",
       "      <td>0.0</td>\n",
       "      <td>0.000024</td>\n",
       "      <td>0.098312</td>\n",
       "      <td>1.26</td>\n",
       "      <td>0.092361</td>\n",
       "    </tr>\n",
       "    <tr>\n",
       "      <th>12</th>\n",
       "      <td>None</td>\n",
       "      <td>-1.524000e+33</td>\n",
       "      <td>0.002258</td>\n",
       "      <td>0.0</td>\n",
       "      <td>809696.840867</td>\n",
       "      <td>0.0</td>\n",
       "      <td>0.977028</td>\n",
       "      <td>0.0</td>\n",
       "      <td>6.962926</td>\n",
       "      <td>5.500116</td>\n",
       "      <td>...</td>\n",
       "      <td>0.855842</td>\n",
       "      <td>0.1384</td>\n",
       "      <td>22.751088</td>\n",
       "      <td>98.544543</td>\n",
       "      <td>72.999092</td>\n",
       "      <td>0.0</td>\n",
       "      <td>0.000024</td>\n",
       "      <td>0.098077</td>\n",
       "      <td>1.26</td>\n",
       "      <td>0.092355</td>\n",
       "    </tr>\n",
       "    <tr>\n",
       "      <th>13</th>\n",
       "      <td>None</td>\n",
       "      <td>-1.524000e+33</td>\n",
       "      <td>0.002194</td>\n",
       "      <td>0.0</td>\n",
       "      <td>809696.840867</td>\n",
       "      <td>0.0</td>\n",
       "      <td>0.889946</td>\n",
       "      <td>0.0</td>\n",
       "      <td>9.865466</td>\n",
       "      <td>5.500116</td>\n",
       "      <td>...</td>\n",
       "      <td>0.855842</td>\n",
       "      <td>0.1384</td>\n",
       "      <td>50.689506</td>\n",
       "      <td>98.404243</td>\n",
       "      <td>72.999092</td>\n",
       "      <td>0.0</td>\n",
       "      <td>0.000025</td>\n",
       "      <td>0.097877</td>\n",
       "      <td>1.26</td>\n",
       "      <td>0.089888</td>\n",
       "    </tr>\n",
       "  </tbody>\n",
       "</table>\n",
       "<p>14 rows × 218 columns</p>\n",
       "</div>"
      ],
      "text/plain": [
       "   BranchEquipment  BurialDepthOfPipeTopmostCoat  SuperficialVelocityOil  \\\n",
       "0             None                           NaN                     NaN   \n",
       "1      Vert Comp 1                           NaN                     NaN   \n",
       "2           Casing                 -1.524000e+33                0.002277   \n",
       "3             None                 -1.524000e+33                0.002276   \n",
       "4             None                 -1.524000e+33                0.002273   \n",
       "5              Esp                           NaN                     NaN   \n",
       "6           Tubing                 -1.524000e+33                0.002496   \n",
       "7             None                 -1.524000e+33                0.002492   \n",
       "8             None                 -1.524000e+33                0.002487   \n",
       "9             None                 -1.524000e+33                0.002483   \n",
       "10            None                 -1.524000e+33                0.002420   \n",
       "11            None                 -1.524000e+33                0.002334   \n",
       "12            None                 -1.524000e+33                0.002258   \n",
       "13            None                 -1.524000e+33                0.002194   \n",
       "\n",
       "    SlugFrequency1In1000   LGRStockTank  SlugFrequency1In100  \\\n",
       "0                    NaN  809696.840867                  NaN   \n",
       "1                    NaN  809696.840867                  NaN   \n",
       "2                    0.0  809696.840867                  0.0   \n",
       "3                    0.0  809696.840867                  0.0   \n",
       "4                    0.0  809696.840867                  0.0   \n",
       "5                    NaN  809696.840867                  NaN   \n",
       "6                    0.0  809696.840867                  0.0   \n",
       "7                    0.0  809696.840867                  0.0   \n",
       "8                    0.0  809696.840867                  0.0   \n",
       "9                    0.0  809696.840867                  0.0   \n",
       "10                   0.0  809696.840867                  0.0   \n",
       "11                   0.0  809696.840867                  0.0   \n",
       "12                   0.0  809696.840867                  0.0   \n",
       "13                   0.0  809696.840867                  0.0   \n",
       "\n",
       "    VolumeFractionLiquid  SlugLength1In10  ViscosityDeadOilStockTank  \\\n",
       "0               1.000000              NaN                   2.443322   \n",
       "1               1.000000              NaN                   2.196592   \n",
       "2               1.000000              0.0                   2.196629   \n",
       "3               1.000000              0.0                   2.261801   \n",
       "4               1.000000              0.0                   2.426176   \n",
       "5               1.000000              NaN                   2.426278   \n",
       "6               1.000000              0.0                   2.426376   \n",
       "7               1.000000              0.0                   2.664283   \n",
       "8               1.000000              0.0                   3.010800   \n",
       "9               1.000000              0.0                   3.502830   \n",
       "10              0.997845              0.0                   4.213626   \n",
       "11              0.991896              0.0                   5.277789   \n",
       "12              0.977028              0.0                   6.962926   \n",
       "13              0.889946              0.0                   9.865466   \n",
       "\n",
       "    PipeWallThickness  ...  SpecificGravityOilStockTank  \\\n",
       "0                 NaN  ...                     0.855842   \n",
       "1                 NaN  ...                     0.855842   \n",
       "2            8.500110  ...                     0.855842   \n",
       "3            8.500110  ...                     0.855842   \n",
       "4            8.500110  ...                     0.855842   \n",
       "5                 NaN  ...                     0.855842   \n",
       "6            5.500116  ...                     0.855842   \n",
       "7            5.500116  ...                     0.855842   \n",
       "8            5.500116  ...                     0.855842   \n",
       "9            5.500116  ...                     0.855842   \n",
       "10           5.500116  ...                     0.855842   \n",
       "11           5.500116  ...                     0.855842   \n",
       "12           5.500116  ...                     0.855842   \n",
       "13           5.500116  ...                     0.855842   \n",
       "\n",
       "    ConductivityOilInSitu  CumulativeElevationPressureDifference  \\\n",
       "0                  0.1384                                    NaN   \n",
       "1                  0.1384                                    NaN   \n",
       "2                  0.1384                               0.000000   \n",
       "3                  0.1384                              17.849899   \n",
       "4                  0.1384                              45.112542   \n",
       "5                  0.1384                                    NaN   \n",
       "6                  0.1384                            -145.496207   \n",
       "7                  0.1384                            -117.852062   \n",
       "8                  0.1384                             -89.802534   \n",
       "9                  0.1384                             -61.696754   \n",
       "10                 0.1384                             -33.550780   \n",
       "11                 0.1384                              -5.428372   \n",
       "12                 0.1384                              22.751088   \n",
       "13                 0.1384                              50.689506   \n",
       "\n",
       "    VolumeFlowrateWaterInSitu  AnnulusInsideDiameter  SlugLengthMean  \\\n",
       "0                   98.287469                    NaN             NaN   \n",
       "1                   99.717967                    NaN             NaN   \n",
       "2                   99.717973             145.999200             0.0   \n",
       "3                   99.701288             145.999200             0.0   \n",
       "4                   99.602940             145.999200             0.0   \n",
       "5                   99.602874                    NaN             NaN   \n",
       "6                   99.602815              72.999092             0.0   \n",
       "7                   99.460453              72.999092             0.0   \n",
       "8                   99.280974              72.999092             0.0   \n",
       "9                   99.086675              72.999092             0.0   \n",
       "10                  98.892130              72.999092             0.0   \n",
       "11                  98.708508              72.999092             0.0   \n",
       "12                  98.544543              72.999092             0.0   \n",
       "13                  98.404243              72.999092             0.0   \n",
       "\n",
       "    SinglePhaseFrictionalPressureGradient  SuperficialVelocityLiquid  \\\n",
       "0                                     NaN                        NaN   \n",
       "1                                     NaN                        NaN   \n",
       "2                                0.000007                   0.090584   \n",
       "3                                0.000007                   0.090569   \n",
       "4                                0.000007                   0.090479   \n",
       "5                                     NaN                        NaN   \n",
       "6                                0.000021                   0.099344   \n",
       "7                                0.000022                   0.099202   \n",
       "8                                0.000022                   0.099022   \n",
       "9                                0.000023                   0.098829   \n",
       "10                               0.000023                   0.098577   \n",
       "11                               0.000024                   0.098312   \n",
       "12                               0.000024                   0.098077   \n",
       "13                               0.000025                   0.097877   \n",
       "\n",
       "    SpecificHeatCapacityRatioGasInSitu  PressureGradientTotal  \n",
       "0                                 1.26                    NaN  \n",
       "1                                 1.26                    NaN  \n",
       "2                                 1.26               0.089384  \n",
       "3                                 1.26               0.089399  \n",
       "4                                 1.26               0.089501  \n",
       "5                                 1.26                    NaN  \n",
       "6                                 1.26               0.091831  \n",
       "7                                 1.26               0.091963  \n",
       "8                                 1.26               0.092133  \n",
       "9                                 1.26               0.092323  \n",
       "10                                1.26               0.092351  \n",
       "11                                1.26               0.092361  \n",
       "12                                1.26               0.092355  \n",
       "13                                1.26               0.089888  \n",
       "\n",
       "[14 rows x 218 columns]"
      ]
     },
     "execution_count": 8,
     "metadata": {},
     "output_type": "execute_result"
    }
   ],
   "source": [
    "# Profile results - распределения параметров по глубине\n",
    "profile_result = results[2][list(results[2].keys())[0]].dropna(how=\"all\", axis=1)\n",
    "profile_result"
   ]
  },
  {
   "cell_type": "markdown",
   "metadata": {},
   "source": [
    "### Построим базовый график давления от глубины"
   ]
  },
  {
   "cell_type": "code",
   "execution_count": 9,
   "metadata": {
    "ExecuteTime": {
     "end_time": "2021-12-10T22:29:05.774028Z",
     "start_time": "2021-12-10T22:29:05.477821Z"
    }
   },
   "outputs": [],
   "source": [
    "import matplotlib.pyplot as plt"
   ]
  },
  {
   "cell_type": "code",
   "execution_count": 14,
   "metadata": {
    "ExecuteTime": {
     "end_time": "2021-12-10T22:33:14.814219Z",
     "start_time": "2021-12-10T22:33:14.805247Z"
    }
   },
   "outputs": [],
   "source": [
    "# Для удобства поиска нужной переменной будем искать названия тут\n",
    "from sixgill.definitions import ProfileVariables"
   ]
  },
  {
   "cell_type": "code",
   "execution_count": 20,
   "metadata": {
    "ExecuteTime": {
     "end_time": "2021-12-10T22:34:56.231635Z",
     "start_time": "2021-12-10T22:34:56.213677Z"
    }
   },
   "outputs": [
    {
     "data": {
      "text/plain": [
       "'Pressure'"
      ]
     },
     "execution_count": 20,
     "metadata": {},
     "output_type": "execute_result"
    }
   ],
   "source": [
    "# используйте shift+tab после точки и ввода букв для подсказок\n",
    "ProfileVariables.PRESSURE"
   ]
  },
  {
   "cell_type": "code",
   "execution_count": 27,
   "metadata": {
    "ExecuteTime": {
     "end_time": "2021-12-10T22:36:40.664546Z",
     "start_time": "2021-12-10T22:36:40.543904Z"
    }
   },
   "outputs": [
    {
     "data": {
      "text/plain": [
       "<matplotlib.legend.Legend at 0x1c44fbbe4f0>"
      ]
     },
     "execution_count": 27,
     "metadata": {},
     "output_type": "execute_result"
    },
    {
     "data": {
      "image/png": "[encoded data removed]",
      "text/plain": [
       "<Figure size 432x288 with 1 Axes>"
      ]
     },
     "metadata": {
      "needs_background": "light"
     },
     "output_type": "display_data"
    }
   ],
   "source": [
    "plt.plot(\n",
    "    profile_result[ProfileVariables.PRESSURE],\n",
    "    profile_result[ProfileVariables.MEASURED_DEPTH] * -1,\n",
    "    label=\"КРД\"\n",
    "        )\n",
    "plt.legend()"
   ]
  },
  {
   "cell_type": "markdown",
   "metadata": {},
   "source": [
    "### Определим дебит, с которым работает скважина, с помощью узлового анализа"
   ]
  },
  {
   "cell_type": "code",
   "execution_count": 36,
   "metadata": {
    "ExecuteTime": {
     "end_time": "2021-12-10T23:02:44.314599Z",
     "start_time": "2021-12-10T23:02:35.308089Z"
    }
   },
   "outputs": [
    {
     "name": "stderr",
     "output_type": "stream",
     "text": [
      "INFO:manta.server.manager:Starting PIPESIM server on thread ID: 16616\n",
      "C:\\Users\\Alexey\\anaconda3\\lib\\subprocess.py:844: RuntimeWarning: line buffering (buffering=1) isn't supported in binary mode, the default buffer size will be used\n",
      "  self.stdout = io.open(c2pread, 'rb', bufsize)\n",
      "INFO:sixgill.core.metadata:Using cached metadata for 'http://localhost:60815/api/metadata#'\n"
     ]
    },
    {
     "data": {
      "text/plain": [
       "<sixgill.pipesim.Task at 0x1c4665a8f70>"
      ]
     },
     "execution_count": 36,
     "metadata": {},
     "output_type": "execute_result"
    }
   ],
   "source": [
    "model = Model.open(model_directory + f\"/{model_name}.pips\", units=Units.METRIC)\n",
    "\n",
    "model.tasks"
   ]
  },
  {
   "cell_type": "code",
   "execution_count": 39,
   "metadata": {
    "ExecuteTime": {
     "end_time": "2021-12-10T23:06:12.066492Z",
     "start_time": "2021-12-10T23:05:42.806095Z"
    }
   },
   "outputs": [
    {
     "name": "stderr",
     "output_type": "stream",
     "text": [
      "INFO:sixgill.core.simulations:Simulation is running.\n",
      "INFO:sixgill.core.simulations:Simulation is finished.\n",
      "INFO:sixgill.core.simulations:Simulation run successfully.\n"
     ]
    }
   ],
   "source": [
    "parameters = {Parameters.NodalAnalysisSimulation.OUTLETPRESSURE: 10}\n",
    "results = model.tasks.nodalanalysis.run(producer=model_name,\n",
    "                              parameters=parameters\n",
    "                             )"
   ]
  },
  {
   "cell_type": "code",
   "execution_count": 59,
   "metadata": {
    "ExecuteTime": {
     "end_time": "2021-12-10T23:08:34.162847Z",
     "start_time": "2021-12-10T23:08:34.149883Z"
    }
   },
   "outputs": [
    {
     "data": {
      "text/plain": [
       "{'NodalPointVolumeFlowrateGasStockTank': [nan,\n",
       "  5.443450896668814e-05,\n",
       "  5.443450896668814e-08,\n",
       "  4.0787127548673284e-05,\n",
       "  1.6347511724849328e-05,\n",
       "  2.6123358054378915e-05,\n",
       "  6.571665395319742e-06,\n",
       "  3.1988865852096665e-05,\n",
       "  4.6246080115879226e-05,\n",
       "  1.0482003927131575e-05,\n",
       "  2.0257850256661162e-05,\n",
       "  2.6613268635079106e-06,\n",
       "  3.5508170530727315e-05,\n",
       "  4.95214516562028e-05,\n",
       "  1.2828207046218677e-05,\n",
       "  2.2604053375748268e-05,\n",
       "  2.8469561173466004e-05,\n",
       "  4.225462276232644e-06,\n",
       "  8.135800808044479e-06,\n",
       "  4.297070857555565e-05,\n",
       "  3.76197533379057e-05,\n",
       "  1.0971914507831774e-06,\n",
       "  1.7911647137574063e-05,\n",
       "  5.148667458039694e-05,\n",
       "  1.4235928917670938e-05,\n",
       "  2.4011775247200522e-05,\n",
       "  2.987728304491827e-05,\n",
       "  5.163943523867485e-06,\n",
       "  3.3396587723548916e-05,\n",
       "  9.074282055679317e-06,\n",
       "  4.4280857191685095e-05],\n",
       " 'NodalPointPressure': [nan,\n",
       "  73.89931056861606,\n",
       "  70.55722021318977,\n",
       "  69.12172056704956,\n",
       "  68.4802966934559,\n",
       "  68.08049114450077,\n",
       "  69.57193102760583,\n",
       "  68.22489924350316,\n",
       "  70.43688398332317,\n",
       "  69.04743910141585,\n",
       "  68.2342056895068,\n",
       "  70.08516315468164,\n",
       "  68.44860377838393,\n",
       "  71.6007113195516,\n",
       "  68.7878738670842,\n",
       "  68.14400147802469,\n",
       "  68.08796017463587,\n",
       "  69.92204400036584,\n",
       "  69.34908014504047,\n",
       "  69.51897631243425,\n",
       "  68.67299728344771,\n",
       "  70.06082812566422,\n",
       "  68.3657559995605,\n",
       "  72.42192061886604,\n",
       "  68.65191714893483,\n",
       "  68.10820807964441,\n",
       "  68.11090478158042,\n",
       "  69.78931404937026,\n",
       "  68.27314876876318,\n",
       "  69.22367779210434,\n",
       "  69.8578177225105],\n",
       " 'NodalPointMassFlowrateFluid': [nan,\n",
       "  0.515545137534998,\n",
       "  0.000515545137534998,\n",
       "  0.38629181526384987,\n",
       "  0.15482605318806097,\n",
       "  0.2474123580183765,\n",
       "  0.06223974835774538,\n",
       "  0.3029641409165658,\n",
       "  0.43799314417230917,\n",
       "  0.0992742702898716,\n",
       "  0.1918605751201872,\n",
       "  0.025205226425619155,\n",
       "  0.33629521065547957,\n",
       "  0.4690139415173847,\n",
       "  0.12149498344914733,\n",
       "  0.21408128827946296,\n",
       "  0.26963307117765223,\n",
       "  0.04001903519846965,\n",
       "  0.07705355713059588,\n",
       "  0.4069723468272335,\n",
       "  0.35629385249882767,\n",
       "  0.010391417652768662,\n",
       "  0.16963986196091146,\n",
       "  0.48762641992443,\n",
       "  0.1348274113447128,\n",
       "  0.22741371617502837,\n",
       "  0.28296549907321766,\n",
       "  0.04890732046217994,\n",
       "  0.31629656881213136,\n",
       "  0.08594184239430616,\n",
       "  0.41938066576526384],\n",
       " 'NodalPointVolumeFlowrateLiquidStockTank': [nan,\n",
       "  44.075421529488004,\n",
       "  0.044075421529488006,\n",
       "  33.02518703319062,\n",
       "  13.23652006619394,\n",
       "  21.151986852992614,\n",
       "  5.321053279395269,\n",
       "  25.901266925071813,\n",
       "  37.445280831709574,\n",
       "  8.487239994114736,\n",
       "  16.40270678091341,\n",
       "  2.1548665646758005,\n",
       "  28.75083496831934,\n",
       "  40.097337110820945,\n",
       "  10.386952022946417,\n",
       "  18.302418809745088,\n",
       "  23.05169888182429,\n",
       "  3.4213412505635885,\n",
       "  6.587527965283057,\n",
       "  34.7932245525982,\n",
       "  30.46057579426785,\n",
       "  0.8883918787880131,\n",
       "  14.50299475208173,\n",
       "  41.68857087828777,\n",
       "  11.526779240245427,\n",
       "  19.442246027044096,\n",
       "  24.1915260991233,\n",
       "  4.18122606209626,\n",
       "  27.041094142370824,\n",
       "  7.3474127768157285,\n",
       "  35.85404706424275]}"
      ]
     },
     "execution_count": 59,
     "metadata": {},
     "output_type": "execute_result"
    }
   ],
   "source": [
    "results.outflow_curves[0].curve_data"
   ]
  },
  {
   "cell_type": "code",
   "execution_count": 44,
   "metadata": {
    "ExecuteTime": {
     "end_time": "2021-12-10T23:06:40.457700Z",
     "start_time": "2021-12-10T23:06:40.440746Z"
    }
   },
   "outputs": [
    {
     "data": {
      "text/plain": [
       "'Operating Point: Flowrate=207.7222 sbbl/day'"
      ]
     },
     "execution_count": 44,
     "metadata": {},
     "output_type": "execute_result"
    }
   ],
   "source": [
    "results.cases[0]"
   ]
  },
  {
   "cell_type": "markdown",
   "metadata": {},
   "source": [
    "### Проведем адаптацию скважины на замер"
   ]
  },
  {
   "cell_type": "code",
   "execution_count": 62,
   "metadata": {
    "ExecuteTime": {
     "end_time": "2021-12-10T23:09:11.720820Z",
     "start_time": "2021-12-10T23:09:11.681926Z"
    }
   },
   "outputs": [],
   "source": [
    "# Определим коэффициент деградации насоса, такой чтобы расчетное давление на приеме совпадало с замерным\n",
    "\n",
    "# Самостоятельно сделайте функцию которая будет определять коэффициент деградации насоса\n",
    "# используя оптимизатор пакета scipy.optimize и функцию\n",
    "from scipy.optimize import brentq\n",
    "\n",
    "# Подставьте реальное значение p_in\n",
    "p_in_fact = 1\n",
    "\n",
    "def _opt_func(c_degr, p_in_fact, model) -> float:\n",
    "    p_in = 1 # Добавьте сюда расчет и извлечение p_in\n",
    "    \n",
    "    model.set_value(context=\"Esp\", parameter=Parameters.ESP.HEADFACTOR,\n",
    "                         value=c_degr)\n",
    "    # Рассчитайте давление на приеме\n",
    "    \n",
    "    return (p_in-p_in_fact)\n",
    "\n",
    "c_degr = brentq(_opt_func, a=0.01, b=5, args=(p_in_fact, model))\n",
    "\n",
    "\n",
    "# Проверим на расчете КРД"
   ]
  },
  {
   "cell_type": "markdown",
   "metadata": {},
   "source": [
    "### Построим виртуальный расходомер "
   ]
  }
 ],
 "metadata": {
  "kernelspec": {
   "display_name": "Python 3",
   "language": "python",
   "name": "python3"
  },
  "language_info": {
   "codemirror_mode": {
    "name": "ipython",
    "version": 3
   },
   "file_extension": ".py",
   "mimetype": "text/x-python",
   "name": "python",
   "nbconvert_exporter": "python",
   "pygments_lexer": "ipython3",
   "version": "3.8.3"
  },
  "toc": {
   "base_numbering": 1,
   "nav_menu": {},
   "number_sections": true,
   "sideBar": true,
   "skip_h1_title": false,
   "title_cell": "Table of Contents",
   "title_sidebar": "Contents",
   "toc_cell": false,
   "toc_position": {},
   "toc_section_display": true,
   "toc_window_display": false
  }
 },
 "nbformat": 4,
 "nbformat_minor": 4
}
